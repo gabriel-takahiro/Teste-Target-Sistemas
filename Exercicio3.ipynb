{
  "nbformat": 4,
  "nbformat_minor": 0,
  "metadata": {
    "colab": {
      "provenance": []
    },
    "kernelspec": {
      "name": "python3",
      "display_name": "Python 3"
    },
    "language_info": {
      "name": "python"
    }
  },
  "cells": [
    {
      "cell_type": "code",
      "execution_count": 55,
      "metadata": {
        "id": "TBe7oXnSCl9i"
      },
      "outputs": [],
      "source": [
        "import numpy as np\n",
        "import pandas as pd"
      ]
    },
    {
      "cell_type": "code",
      "source": [
        "import pandas as pd\n",
        "df = pd.read_json('/content/dados.json')"
      ],
      "metadata": {
        "id": "2RTpPWpVDRxs"
      },
      "execution_count": 56,
      "outputs": []
    },
    {
      "cell_type": "code",
      "source": [
        "df = df[df['valor']!=0]"
      ],
      "metadata": {
        "id": "InMwFr8KEO0G"
      },
      "execution_count": 57,
      "outputs": []
    },
    {
      "cell_type": "code",
      "source": [
        "maior_valor = df['valor'].idxmax() + 1\n",
        "print('O dia que apresentou o maior valor foi o dia',maior_valor, 'com valor de',df.loc[df['dia'] == maior_valor, 'valor'].item())"
      ],
      "metadata": {
        "colab": {
          "base_uri": "https://localhost:8080/"
        },
        "id": "SuyJH3L2E5Cj",
        "outputId": "5088099d-0735-4693-cff7-62ee42fe3312"
      },
      "execution_count": 58,
      "outputs": [
        {
          "output_type": "stream",
          "name": "stdout",
          "text": [
            "O dia que apresentou o maior valor foi o dia 16 com valor de 48924.2448\n"
          ]
        }
      ]
    },
    {
      "cell_type": "code",
      "source": [
        "menor_valor = df['valor'].idxmin() + 1\n",
        "print('O dia que apresentou o menor valor foi o dia',menor_valor, 'com valor de',df.loc[df['dia'] == menor_valor, 'valor'].item())"
      ],
      "metadata": {
        "colab": {
          "base_uri": "https://localhost:8080/"
        },
        "id": "GJXX7wPkGI4h",
        "outputId": "60400adc-b623-4123-b3a7-20c4de6ce42b"
      },
      "execution_count": 59,
      "outputs": [
        {
          "output_type": "stream",
          "name": "stdout",
          "text": [
            "O dia que apresentou o menor valor foi o dia 14 com valor de 373.7838\n"
          ]
        }
      ]
    },
    {
      "cell_type": "code",
      "source": [
        "media = df['valor'].mean()\n",
        "quatidade_dias_acima_media = df.loc[df['valor'] > media, 'dia'].count()\n",
        "print('A quantidade de dias que tiveram um faturamento acima da média é',quatidade_dias_acima_media)"
      ],
      "metadata": {
        "colab": {
          "base_uri": "https://localhost:8080/"
        },
        "id": "3112ZfPsIyDU",
        "outputId": "c6bc3a79-7e7c-4210-9053-d424cc2e681f"
      },
      "execution_count": 60,
      "outputs": [
        {
          "output_type": "stream",
          "name": "stdout",
          "text": [
            "A quantidade de dias que tiveram um faturamento acima da média é 10\n"
          ]
        }
      ]
    }
  ]
}